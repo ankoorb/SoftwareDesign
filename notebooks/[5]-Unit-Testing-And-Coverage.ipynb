{
 "cells": [
  {
   "cell_type": "markdown",
   "id": "fc1bb29b",
   "metadata": {},
   "source": [
    "- **Unit Test** help you keep your code stable and bug free\n",
    "\n",
    "- **Coverage** is a measure for how much of your code is tested and is generally expressed as a percentage\n",
    "\n",
    "\n",
    "\n",
    "- Write your code first and then add the unit test to test\n",
    "- Write unit tests and then write your code -> Test driven development"
   ]
  },
  {
   "cell_type": "code",
   "execution_count": 1,
   "id": "6ceab945",
   "metadata": {},
   "outputs": [],
   "source": [
    "import unittest"
   ]
  },
  {
   "cell_type": "markdown",
   "id": "a4222a05",
   "metadata": {},
   "source": [
    "### Before"
   ]
  },
  {
   "cell_type": "code",
   "execution_count": 2,
   "id": "1b1e9c1d",
   "metadata": {},
   "outputs": [
    {
     "name": "stdout",
     "output_type": "stream",
     "text": [
      "BMW tax: 500.0\n"
     ]
    }
   ],
   "source": [
    "class VehicleInfo:\n",
    "\n",
    "    def __init__(self, brand, electric, catalog_price):\n",
    "        self.brand = brand\n",
    "        self.electric = electric\n",
    "        self.catalog_price = catalog_price\n",
    "\n",
    "    # This method computes the tax payable for this particular vehicle and\n",
    "    # returns that as a positive floating point value.\n",
    "    # You can optionally provide an amount below which no tax is computed\n",
    "    def compute_tax(self, tax_exemption_amount: int = 0) -> float:\n",
    "        if tax_exemption_amount < 0:\n",
    "            raise ValueError(f\"'tax_exemption_amount' should be a positive number, but received {tax_exemption_amount} instead.\")\n",
    "        tax_percentage = 0.05\n",
    "        if self.electric:\n",
    "            tax_percentage = 0.02\n",
    "        return tax_percentage * (self.catalog_price - tax_exemption_amount)\n",
    "\n",
    "    # you can only lease this car if the catalog price is not more than 70% of\n",
    "    # your annual income; annual_income should be >= 0\n",
    "    def can_lease(self, annual_income: int) -> bool:\n",
    "        # to do\n",
    "        pass\n",
    "\n",
    "# Create a vehicle info object\n",
    "v = VehicleInfo(\"BMW\", False, 10000)\n",
    "\n",
    "# Compute the tax\n",
    "print(f\"BMW tax: {v.compute_tax()}\")"
   ]
  },
  {
   "cell_type": "markdown",
   "id": "e5805b11",
   "metadata": {},
   "source": [
    "### After"
   ]
  },
  {
   "cell_type": "code",
   "execution_count": 3,
   "id": "4734f9ab",
   "metadata": {},
   "outputs": [],
   "source": [
    "class VehicleInfo:\n",
    "    \n",
    "    def __init__(self, brand, electric, catalog_price):\n",
    "        self.brand = brand\n",
    "        self.electric = electric\n",
    "        self.catalog_price = catalog_price\n",
    "        \n",
    "    # This method computes the tax payable for this particular vehicle and\n",
    "    # returns that as a positive floating point value.\n",
    "    # You can optionally provide an amount below which no tax is computed\n",
    "    def compute_tax(self, tax_exemption_amount: int = 0) -> float:\n",
    "        if tax_exemption_amount < 0:\n",
    "            raise ValueError(f\"'tax_exemption_amount' should be a positive number, but received {tax_exemption_amount} instead.\")\n",
    "        tax_percentage = 0.05\n",
    "        if self.electric:\n",
    "            tax_percentage = 0.02\n",
    "        return tax_percentage * max(self.catalog_price - tax_exemption_amount, 0)  # max to take care of bug if vehicle cost < tax exemption amount\n",
    "    \n",
    "    # you can only lease this car if the catalog price is not more than 70% of\n",
    "    # your annual income; annual_income should be >= 0\n",
    "    def can_lease(self, annual_income: int) -> bool:\n",
    "        if annual_income < 0:\n",
    "            raise ValueError(f\"annual_income should be a positive number, but received {annual_income} instead.\")\n",
    "        return self.catalog_price <= 0.7 * annual_income\n"
   ]
  },
  {
   "cell_type": "markdown",
   "id": "d6a2496a",
   "metadata": {},
   "source": [
    "### Tests\n",
    "\n",
    "- **`coverage run *_test.py`** - Generates coverage report (not human readable)\n",
    "- **`coverage html`** - Render coverage report in HTML"
   ]
  },
  {
   "cell_type": "code",
   "execution_count": 4,
   "id": "955684b4",
   "metadata": {},
   "outputs": [
    {
     "name": "stderr",
     "output_type": "stream",
     "text": [
      "test_can_lease_false (__main__.TestVehicleInfo) ... ok\n",
      "test_can_lease_negative_annual_income (__main__.TestVehicleInfo) ... ok\n",
      "test_can_lease_true (__main__.TestVehicleInfo) ... ok\n",
      "test_compute_tax_electric (__main__.TestVehicleInfo) ... ok\n",
      "test_compute_tax_exemption (__main__.TestVehicleInfo) ... ok\n",
      "test_compute_tax_exemption_high (__main__.TestVehicleInfo) ... ok\n",
      "test_compute_tax_exemption_negative (__main__.TestVehicleInfo) ... ok\n",
      "test_compute_tax_non_electric (__main__.TestVehicleInfo) ... ok\n",
      "\n",
      "----------------------------------------------------------------------\n",
      "Ran 8 tests in 0.051s\n",
      "\n",
      "OK\n"
     ]
    },
    {
     "data": {
      "text/plain": [
       "<unittest.main.TestProgram at 0x7f06781825b0>"
      ]
     },
     "execution_count": 4,
     "metadata": {},
     "output_type": "execute_result"
    }
   ],
   "source": [
    "# NOTE: Make sure class method starts with \"test\"\n",
    "class TestVehicleInfo(unittest.TestCase):\n",
    "    \n",
    "    def test_compute_tax_non_electric(self):\n",
    "        v = VehicleInfo(\"BMW\", False, 10000)\n",
    "        self.assertEqual(v.compute_tax(), 500)\n",
    "        \n",
    "    def test_compute_tax_electric(self):\n",
    "        v = VehicleInfo(\"BMW\", True, 10000)\n",
    "        self.assertEqual(v.compute_tax(), 200)\n",
    "        \n",
    "    def test_compute_tax_exemption(self):\n",
    "        v = VehicleInfo(\"BMW\", False, 10000)\n",
    "        self.assertEqual(v.compute_tax(5000), 250)\n",
    "        \n",
    "    def test_compute_tax_exemption_negative(self):\n",
    "        v = VehicleInfo(\"BMW\", False, 10000)\n",
    "        self.assertRaises(ValueError, v.compute_tax, -5000)\n",
    "        \n",
    "    def test_compute_tax_exemption_high(self):\n",
    "        v = VehicleInfo(\"BMW\", False, 10000)\n",
    "        self.assertEqual(v.compute_tax(20000), 0)\n",
    "        \n",
    "    def test_can_lease_true(self):\n",
    "        v = VehicleInfo(\"BMW\", False, 10000)\n",
    "        self.assertTrue(v.can_lease(20000))\n",
    "        \n",
    "    def test_can_lease_false(self):\n",
    "        v = VehicleInfo(\"BMW\", False, 10000)\n",
    "        self.assertFalse(v.can_lease(5000))\n",
    "        \n",
    "    def test_can_lease_negative_annual_income(self):\n",
    "        v = VehicleInfo(\"BMW\", False, 10000)\n",
    "        self.assertRaises(ValueError, v.can_lease, -20000)\n",
    "\n",
    "unittest.main(argv=[''], verbosity=2, exit=False)  # unittest.main() on *.py file"
   ]
  },
  {
   "cell_type": "code",
   "execution_count": null,
   "id": "0e648b2c",
   "metadata": {},
   "outputs": [],
   "source": []
  }
 ],
 "metadata": {
  "kernelspec": {
   "display_name": "Python 3 (ipykernel)",
   "language": "python",
   "name": "python3"
  },
  "language_info": {
   "codemirror_mode": {
    "name": "ipython",
    "version": 3
   },
   "file_extension": ".py",
   "mimetype": "text/x-python",
   "name": "python",
   "nbconvert_exporter": "python",
   "pygments_lexer": "ipython3",
   "version": "3.8.10"
  }
 },
 "nbformat": 4,
 "nbformat_minor": 5
}
