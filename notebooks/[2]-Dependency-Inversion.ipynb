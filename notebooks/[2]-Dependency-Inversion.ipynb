{
 "cells": [
  {
   "cell_type": "markdown",
   "id": "e254049f",
   "metadata": {},
   "source": [
    "**Dependency Inversion** - helps you write code that you can reuse more easily. It is a part of SOLI**D** design principles. Key ingredient for Dependency Inversion is **abstraction**. \n",
    "\n",
    "You need a mechanism in your programming language that allows you to separate the description or definition of the interface from the actual implementation of something, e.g. Writing a sorting algorithm, your interface might be that algorithm expects a list of some kind and a function which tells which element should come first, interface also needs type: i/p and o/p of sorting algorithm\n",
    "\n",
    "Python has:\n",
    "- Abstract Base Class (ABC): To model abstraction\n",
    "- Type Hints: Allows to specify types of parameters and return type (purely meant for developer to increase readability of code and also interpreter does not perform type checking)"
   ]
  },
  {
   "cell_type": "markdown",
   "id": "cfbc227f",
   "metadata": {},
   "source": [
    "### Before"
   ]
  },
  {
   "cell_type": "code",
   "execution_count": 7,
   "id": "b131f1f4",
   "metadata": {},
   "outputs": [
    {
     "name": "stdout",
     "output_type": "stream",
     "text": [
      "LightBulb: turned on ...\n",
      "LightBulb: turned off ...\n"
     ]
    }
   ],
   "source": [
    "class LightBulb:\n",
    "    \n",
    "    def turn_on(self):\n",
    "        print(\"LightBulb: turned on ...\")\n",
    "        \n",
    "    def turn_off(self):\n",
    "        print(\"LightBulb: turned off ...\")\n",
    "        \n",
    "\n",
    "class PowerSwitch:\n",
    "    \n",
    "    def __init__(self, bulb: LightBulb): \n",
    "        self.lightbulb = bulb\n",
    "        self.on = False\n",
    "        \n",
    "    def press(self):\n",
    "        if self.on:\n",
    "            self.lightbulb.turn_off()\n",
    "            self.on = False\n",
    "        else:\n",
    "            self.lightbulb.turn_on()\n",
    "            self.on = True\n",
    "            \n",
    "\n",
    "bulb = LightBulb()\n",
    "switch = PowerSwitch(bulb) \n",
    "switch.press()\n",
    "switch.press()\n",
    "\n",
    "# Dependency: PowerSwitch requires LightBulb and directly calls turn on/off method\n",
    "# on that passed instance. Use dependency inversion principle to remove dependency of\n",
    "# PowerSwitch on LightBulb - To do this use \"abstract class\". This will help what \n",
    "# the interface shoud be that a class should adhere to"
   ]
  },
  {
   "cell_type": "markdown",
   "id": "68726d75",
   "metadata": {},
   "source": [
    "### After"
   ]
  },
  {
   "cell_type": "code",
   "execution_count": 10,
   "id": "06775ea3",
   "metadata": {},
   "outputs": [
    {
     "name": "stdout",
     "output_type": "stream",
     "text": [
      "LightBulb: turned on ...\n",
      "LightBulb: turned off ...\n",
      "LightBulb: turned on ...\n",
      "LightBulb: turned off ...\n"
     ]
    }
   ],
   "source": [
    "from abc import ABC, abstractmethod\n",
    "\n",
    "class Switchable(ABC):\n",
    "    \n",
    "    @abstractmethod\n",
    "    def turn_on(self):\n",
    "        pass\n",
    "    \n",
    "    @abstractmethod\n",
    "    def turn_off(self):\n",
    "        pass\n",
    "    \n",
    "# s = Switchable()  # TypeError\n",
    "\n",
    "\n",
    "class LightBulb(Switchable):\n",
    "    \n",
    "    # If turn_on/off methods are not implemented we will get TypeError\n",
    "    def turn_on(self):\n",
    "        print(\"LightBulb: turned on ...\")\n",
    "        \n",
    "    def turn_off(self):\n",
    "        print(\"LightBulb: turned off ...\")\n",
    "        \n",
    "class Fan(Switchable):\n",
    "    \n",
    "    def turn_on(self):\n",
    "        print(\"Fan: turned on ...\")\n",
    "        \n",
    "    def turn_off(self):\n",
    "        print(\"Fan: turned off ...\")\n",
    "    \n",
    "        \n",
    "        \n",
    "class PowerSwitch:\n",
    "    \n",
    "    def __init__(self, client: Switchable): \n",
    "        self.client = bulb\n",
    "        self.on = False\n",
    "        \n",
    "    def press(self):\n",
    "        if self.on:\n",
    "            self.client.turn_off()\n",
    "            self.on = False\n",
    "        else:\n",
    "            self.client.turn_on()\n",
    "            self.on = True\n",
    "            \n",
    "\n",
    "bulb = LightBulb()\n",
    "bulb_switch = PowerSwitch(bulb) \n",
    "bulb_switch.press()\n",
    "bulb_switch.press()\n",
    "\n",
    "fan = Fan()\n",
    "fan_switch = PowerSwitch(fan) \n",
    "fan_switch.press()\n",
    "fan_switch.press()"
   ]
  },
  {
   "cell_type": "code",
   "execution_count": null,
   "id": "2edc2b81",
   "metadata": {},
   "outputs": [],
   "source": []
  }
 ],
 "metadata": {
  "kernelspec": {
   "display_name": "Python 3 (ipykernel)",
   "language": "python",
   "name": "python3"
  },
  "language_info": {
   "codemirror_mode": {
    "name": "ipython",
    "version": 3
   },
   "file_extension": ".py",
   "mimetype": "text/x-python",
   "name": "python",
   "nbconvert_exporter": "python",
   "pygments_lexer": "ipython3",
   "version": "3.8.10"
  }
 },
 "nbformat": 4,
 "nbformat_minor": 5
}
