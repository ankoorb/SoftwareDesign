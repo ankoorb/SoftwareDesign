{
 "cells": [
  {
   "cell_type": "markdown",
   "id": "af09a2b1",
   "metadata": {},
   "source": [
    "**Cohesion** - It is degree to which elements of a certain class or function belong together. A class or function with strong cohesion has clear a responsibility, i.e. it has only one task, e.g. `math.cos`. It is easier to maintain and reuse class or function with strong cohesion\n",
    "\n",
    "**Coupling** - It is a measure of how dependent two parts of code are on each other. High coupling is problematic because changing something in one part of a program means you need to change things in multiple places. There will always coupling in code because various parts of your code need to work together but the more coupling you introduce the more difficult it becomes to maintain your code. Solutions:\n",
    "- Pass along data you need instead of object\n",
    "- Move the code inside the object class"
   ]
  },
  {
   "cell_type": "code",
   "execution_count": 3,
   "id": "e3ffe638",
   "metadata": {},
   "outputs": [],
   "source": [
    "import string\n",
    "import random"
   ]
  },
  {
   "cell_type": "markdown",
   "id": "567878c3",
   "metadata": {},
   "source": [
    "### Before"
   ]
  },
  {
   "cell_type": "code",
   "execution_count": 4,
   "id": "6e036416",
   "metadata": {},
   "outputs": [
    {
     "name": "stdout",
     "output_type": "stream",
     "text": [
      "Registration complete. Vehicle information:\n",
      "Brand: Volkswagen ID3\n",
      "Id: VOVSPKALSMSD\n",
      "License plate: VO-05-RG\n",
      "Payable tax: 700.0\n"
     ]
    }
   ],
   "source": [
    "class VehicleRegistry:\n",
    "\n",
    "    def generate_vehicle_id(self, length):\n",
    "        return ''.join(random.choices(string.ascii_uppercase, k=length))\n",
    "\n",
    "    def generate_vehicle_license(self, id):\n",
    "        return f\"{id[:2]}-{''.join(random.choices(string.digits, k=2))}-{''.join(random.choices(string.ascii_uppercase, k=2))}\"\n",
    "\n",
    "\n",
    "class Application:\n",
    "\n",
    "    def register_vehicle(self, brand: string):\n",
    "        \"\"\"\n",
    "        This method is doing a lot of different things. The method has a lot\n",
    "        of responsibilites which means that this method has low cohesion. Also,\n",
    "        this method has high coupling because it is directly relying on details\n",
    "        of VehicleRegistry class (generate id and pass it to generate license),\n",
    "        and if methods in VehicleRegistry class are modified then we will need \n",
    "        to modify this method too. Another problem - It is difficult to add another\n",
    "        brand of vehicle. Data is also not stored logically - there is direct \n",
    "        coupling between brand and catalogue prices, tax percent depends on if \n",
    "        brand is electric or not. We have brand information and vehicle instance\n",
    "        information -> separate into classes\n",
    "        \"\"\"\n",
    "        # create a registry instance\n",
    "        registry = VehicleRegistry()\n",
    "\n",
    "        # generate a vehicle id of length 12\n",
    "        vehicle_id = registry.generate_vehicle_id(12)\n",
    "\n",
    "        # now generate a license plate for the vehicle\n",
    "        # using the first two characters of the vehicle id\n",
    "        license_plate = registry.generate_vehicle_license(vehicle_id)\n",
    "\n",
    "        # compute the catalogue price\n",
    "        catalogue_price = 0\n",
    "        if brand == \"Tesla Model 3\":\n",
    "            catalogue_price = 60000\n",
    "        elif brand == \"Volkswagen ID3\":\n",
    "            catalogue_price = 35000\n",
    "        elif brand == \"BMW 5\":\n",
    "            catalogue_price = 45000\n",
    "\n",
    "        # compute the tax percentage (default 5% of the catalogue price, except for electric cars where it is 2%)\n",
    "        tax_percentage = 0.05\n",
    "        if brand == \"Tesla Model 3\" or brand == \"Volkswagen ID3\":\n",
    "            tax_percentage = 0.02\n",
    "\n",
    "        # compute the payable tax\n",
    "        payable_tax = tax_percentage * catalogue_price\n",
    "\n",
    "        # print out the vehicle registration information\n",
    "        print(\"Registration complete. Vehicle information:\")\n",
    "        print(f\"Brand: {brand}\")\n",
    "        print(f\"Id: {vehicle_id}\")\n",
    "        print(f\"License plate: {license_plate}\")\n",
    "        print(f\"Payable tax: {payable_tax}\")\n",
    "\n",
    "app = Application()\n",
    "app.register_vehicle(\"Volkswagen ID3\")"
   ]
  },
  {
   "cell_type": "markdown",
   "id": "f86f96b7",
   "metadata": {},
   "source": [
    "### After\n",
    "\n",
    "Identify where information is stored and how it is accessed. When you have defined the logical structure of information you can group the code around that. This results in lower coupling because the code is closer to the information it uses"
   ]
  },
  {
   "cell_type": "code",
   "execution_count": 5,
   "id": "a290f8dd",
   "metadata": {},
   "outputs": [
    {
     "name": "stdout",
     "output_type": "stream",
     "text": [
      "ID: PBYEIVVNGUSS\n",
      "License plate: PB-12-GC\n",
      "Brand: Volkswagen ID3\n",
      "Payable tax: 1060.0\n"
     ]
    }
   ],
   "source": [
    "class VehicleInformation:\n",
    "    brand: str\n",
    "    catalog_price: int\n",
    "    electric: bool\n",
    "        \n",
    "    def __init__(self, brand, electric, catalog_price):\n",
    "        self.brand = brand\n",
    "        self.electric = electric\n",
    "        self.catalog_price = catalog_price\n",
    "        \n",
    "    def calculate_tax(self):\n",
    "        tax_percentage = 0.05\n",
    "        if self.electric:\n",
    "            tax_percentage = 0.02\n",
    "        return tax_percentage * self.catalog_price\n",
    "    \n",
    "    def print(self):\n",
    "        print(f\"Brand: {self.brand}\")\n",
    "        print(f\"Payable tax: {self.calculate_tax()}\")\n",
    "            \n",
    "\n",
    "class Vehicle:\n",
    "    id: str\n",
    "    license_plate: str\n",
    "    information: VehicleInformation\n",
    "        \n",
    "    def __init__(self, id, license_plate, information):\n",
    "        self.id = id\n",
    "        self.license_plate = license_plate\n",
    "        self.information = information\n",
    "        \n",
    "    def print(self):\n",
    "        print(f\"ID: {self.id}\")\n",
    "        print(f\"License plate: {self.license_plate}\")\n",
    "        self.information.print()\n",
    "        \n",
    "        \n",
    "class VehicleRegistry:\n",
    "    \n",
    "    vehicle_information = {}  # Most likely a database\n",
    "    \n",
    "    def add_vehicle_information(self, brand, electric, catalog_price):\n",
    "        self.vehicle_information[brand] = VehicleInformation(brand, electric, catalog_price)\n",
    "        \n",
    "    def __init__(self):\n",
    "        self.add_vehicle_information(\"Tesla Model 3\", True, 60000)\n",
    "        self.add_vehicle_information(\"Volkswagen ID3\", True, 53000)\n",
    "        self.add_vehicle_information(\"BMW 5\", False, 45000)\n",
    "\n",
    "    def generate_vehicle_id(self, length):\n",
    "        return ''.join(random.choices(string.ascii_uppercase, k=length))\n",
    "\n",
    "    def generate_vehicle_license(self, id):\n",
    "        return f\"{id[:2]}-{''.join(random.choices(string.digits, k=2))}-{''.join(random.choices(string.ascii_uppercase, k=2))}\"\n",
    "    \n",
    "    def create_vehicle(self, brand):\n",
    "        # Generate a vehicle id of length 12\n",
    "        vehicle_id = self.generate_vehicle_id(12)\n",
    "        \n",
    "        # Generate a license plate for the vehicle using the first two characters of the vehicle id\n",
    "        license_plate = self.generate_vehicle_license(vehicle_id)\n",
    "        \n",
    "        return Vehicle(vehicle_id, license_plate, self.vehicle_information[brand])\n",
    "        \n",
    "        \n",
    "class Application:\n",
    "\n",
    "    def register_vehicle(self, brand: string):\n",
    "        # Create a registry instance\n",
    "        registry = VehicleRegistry()\n",
    "        \n",
    "        # Create vehicle\n",
    "        vehicle = registry.create_vehicle(brand)\n",
    "        \n",
    "        # Print vehicle data\n",
    "        vehicle.print()\n",
    "\n",
    "app = Application()\n",
    "app.register_vehicle(\"Volkswagen ID3\")"
   ]
  },
  {
   "cell_type": "code",
   "execution_count": null,
   "id": "61ec3206",
   "metadata": {},
   "outputs": [],
   "source": []
  }
 ],
 "metadata": {
  "kernelspec": {
   "display_name": "Python 3 (ipykernel)",
   "language": "python",
   "name": "python3"
  },
  "language_info": {
   "codemirror_mode": {
    "name": "ipython",
    "version": 3
   },
   "file_extension": ".py",
   "mimetype": "text/x-python",
   "name": "python",
   "nbconvert_exporter": "python",
   "pygments_lexer": "ipython3",
   "version": "3.8.10"
  }
 },
 "nbformat": 4,
 "nbformat_minor": 5
}
